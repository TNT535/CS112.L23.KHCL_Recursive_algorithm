{
 "cells": [
  {
   "cell_type": "code",
   "execution_count": 1,
   "id": "changed-inventory",
   "metadata": {},
   "outputs": [],
   "source": [
    "# def tong(n, day):\n",
    "#     if day == 0 or day == 1:\n",
    "#         return n\n",
    "#     else:\n",
    "#         return (tong(n, day - 1) % (10 ** 9 + 7) + tong(n, day - 2) % (10 ** 9 + 7))\n",
    "\n",
    "\n",
    "# print(tong(n, 2 * day))\n"
   ]
  },
  {
   "cell_type": "code",
   "execution_count": 2,
   "id": "proved-attachment",
   "metadata": {},
   "outputs": [
    {
     "name": "stdout",
     "output_type": "stream",
     "text": [
      "3 2\n"
     ]
    }
   ],
   "source": [
    "arr = [int(x) for x in input().split(' ')]\n",
    "n, day = arr[0], arr[1]\n"
   ]
  },
  {
   "cell_type": "code",
   "execution_count": 3,
   "id": "interesting-removal",
   "metadata": {},
   "outputs": [],
   "source": [
    "mod = 1000000007\n",
    "\n",
    "\n",
    "def matrixFibo(A, B):\n",
    "    a = ((A[0][0] * B[0][0]) + (A[0][1] * B[1][0])) % mod\n",
    "    b = ((A[0][0] * B[0][1]) + (A[0][1] * B[1][1])) % mod\n",
    "    c = ((A[1][0] * B[0][0]) + (A[1][1] * B[1][0])) % mod\n",
    "    d = ((A[1][0] * B[0][1]) + (A[1][1] * B[1][1])) % mod\n",
    "    return [[a, b], [c, d]]\n",
    "\n"
   ]
  },
  {
   "cell_type": "code",
   "execution_count": 4,
   "id": "single-rwanda",
   "metadata": {},
   "outputs": [],
   "source": [
    "\n",
    "def hamMu(a, b):\n",
    "    if b == 1:\n",
    "        return a\n",
    "    base = hamMu(a, b // 2)\n",
    "    if b % 2 == 1:\n",
    "        return matrixFibo(matrixFibo(base, base), a)\n",
    "    return matrixFibo(base, base)\n",
    "\n"
   ]
  },
  {
   "cell_type": "code",
   "execution_count": 5,
   "id": "incorporate-bulgaria",
   "metadata": {},
   "outputs": [],
   "source": [
    "matr = hamMu([[1, 1], [1, 0]], day * 2)\n"
   ]
  },
  {
   "cell_type": "code",
   "execution_count": 6,
   "id": "mental-dispatch",
   "metadata": {},
   "outputs": [
    {
     "name": "stdout",
     "output_type": "stream",
     "text": [
      "15\n"
     ]
    }
   ],
   "source": [
    "print((matr[0][0] * n) % 1000000007)"
   ]
  }
 ],
 "metadata": {
  "kernelspec": {
   "display_name": "Python 3",
   "language": "python",
   "name": "python3"
  },
  "language_info": {
   "codemirror_mode": {
    "name": "ipython",
    "version": 3
   },
   "file_extension": ".py",
   "mimetype": "text/x-python",
   "name": "python",
   "nbconvert_exporter": "python",
   "pygments_lexer": "ipython3",
   "version": "3.7.6"
  }
 },
 "nbformat": 4,
 "nbformat_minor": 5
}
