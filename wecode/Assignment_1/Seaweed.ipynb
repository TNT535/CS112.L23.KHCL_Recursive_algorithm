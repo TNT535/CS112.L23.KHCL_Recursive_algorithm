{
  "nbformat": 4,
  "nbformat_minor": 5,
  "metadata": {
    "kernelspec": {
      "display_name": "Python 3",
      "language": "python",
      "name": "python3"
    },
    "language_info": {
      "codemirror_mode": {
        "name": "ipython",
        "version": 3
      },
      "file_extension": ".py",
      "mimetype": "text/x-python",
      "name": "python",
      "nbconvert_exporter": "python",
      "pygments_lexer": "ipython3",
      "version": "3.7.6"
    },
    "colab": {
      "name": "Seaweed.ipynb",
      "provenance": []
    }
  },
  "cells": [
    {
      "cell_type": "markdown",
      "metadata": {
        "id": "74UpoqB70eGo"
      },
      "source": [
        "# Abstraction"
      ],
      "id": "74UpoqB70eGo"
    },
    {
      "cell_type": "markdown",
      "metadata": {
        "id": "74IrqiUI1AKb"
      },
      "source": [
        ""
      ],
      "id": "74IrqiUI1AKb"
    },
    {
      "cell_type": "markdown",
      "metadata": {
        "id": "pbly8GuB0owv"
      },
      "source": [
        "# Pattern Recognition"
      ],
      "id": "pbly8GuB0owv"
    },
    {
      "cell_type": "markdown",
      "metadata": {
        "id": "ktjDg_fr1B00"
      },
      "source": [
        ""
      ],
      "id": "ktjDg_fr1B00"
    },
    {
      "cell_type": "markdown",
      "metadata": {
        "id": "rMT4ZOEk0v6S"
      },
      "source": [
        "# Algorithm designed"
      ],
      "id": "rMT4ZOEk0v6S"
    },
    {
      "cell_type": "markdown",
      "metadata": {
        "id": "JidhvVm41DCR"
      },
      "source": [
        ""
      ],
      "id": "JidhvVm41DCR"
    },
    {
      "cell_type": "markdown",
      "metadata": {
        "id": "qHrHdy0F0xnv"
      },
      "source": [
        "# Đánh giá độ phức tạp thuật toán"
      ],
      "id": "qHrHdy0F0xnv"
    },
    {
      "cell_type": "markdown",
      "metadata": {
        "id": "5FO30wIe1EN9"
      },
      "source": [
        ""
      ],
      "id": "5FO30wIe1EN9"
    },
    {
      "cell_type": "markdown",
      "metadata": {
        "id": "VEyYFLd304Ox"
      },
      "source": [
        "# Cài đặt chương trình"
      ],
      "id": "VEyYFLd304Ox"
    },
    {
      "cell_type": "code",
      "metadata": {
        "id": "changed-inventory"
      },
      "source": [
        "# def tong(n, day):\n",
        "#     if day == 0 or day == 1:\n",
        "#         return n\n",
        "#     else:\n",
        "#         return (tong(n, day - 1) % (10 ** 9 + 7) + tong(n, day - 2) % (10 ** 9 + 7))\n",
        "\n",
        "\n",
        "# print(tong(n, 2 * day))\n"
      ],
      "id": "changed-inventory",
      "execution_count": null,
      "outputs": []
    },
    {
      "cell_type": "code",
      "metadata": {
        "id": "proved-attachment",
        "outputId": "c0126eba-0d7f-49af-c172-a7f5aa718873"
      },
      "source": [
        "arr = [int(x) for x in input().split(' ')]\n",
        "n, day = arr[0], arr[1]\n"
      ],
      "id": "proved-attachment",
      "execution_count": null,
      "outputs": [
        {
          "output_type": "stream",
          "text": [
            "3 2\n"
          ],
          "name": "stdout"
        }
      ]
    },
    {
      "cell_type": "code",
      "metadata": {
        "id": "interesting-removal"
      },
      "source": [
        "mod = 1000000007\n",
        "\n",
        "\n",
        "def matrixFibo(A, B):\n",
        "    a = ((A[0][0] * B[0][0]) + (A[0][1] * B[1][0])) % mod\n",
        "    b = ((A[0][0] * B[0][1]) + (A[0][1] * B[1][1])) % mod\n",
        "    c = ((A[1][0] * B[0][0]) + (A[1][1] * B[1][0])) % mod\n",
        "    d = ((A[1][0] * B[0][1]) + (A[1][1] * B[1][1])) % mod\n",
        "    return [[a, b], [c, d]]\n",
        "\n"
      ],
      "id": "interesting-removal",
      "execution_count": null,
      "outputs": []
    },
    {
      "cell_type": "code",
      "metadata": {
        "id": "single-rwanda"
      },
      "source": [
        "\n",
        "def hamMu(a, b):\n",
        "    if b == 1:\n",
        "        return a\n",
        "    base = hamMu(a, b // 2)\n",
        "    if b % 2 == 1:\n",
        "        return matrixFibo(matrixFibo(base, base), a)\n",
        "    return matrixFibo(base, base)\n",
        "\n"
      ],
      "id": "single-rwanda",
      "execution_count": null,
      "outputs": []
    },
    {
      "cell_type": "code",
      "metadata": {
        "id": "incorporate-bulgaria"
      },
      "source": [
        "matr = hamMu([[1, 1], [1, 0]], day * 2)\n"
      ],
      "id": "incorporate-bulgaria",
      "execution_count": null,
      "outputs": []
    },
    {
      "cell_type": "code",
      "metadata": {
        "id": "mental-dispatch",
        "outputId": "21aab0d9-8e19-446f-9e54-3b4433beba46"
      },
      "source": [
        "print((matr[0][0] * n) % 1000000007)"
      ],
      "id": "mental-dispatch",
      "execution_count": null,
      "outputs": [
        {
          "output_type": "stream",
          "text": [
            "15\n"
          ],
          "name": "stdout"
        }
      ]
    }
  ]
}