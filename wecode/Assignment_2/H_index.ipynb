{
 "cells": [
  {
   "cell_type": "markdown",
   "id": "closed-liberty",
   "metadata": {},
   "source": [
    "# Lưu ý\n",
    "Tất cả các bài toán được submit trên Wecode bằng tài khoản 19521043 do chưa thể đổi tên qua KHCL.L23.N02"
   ]
  },
  {
   "cell_type": "markdown",
   "id": "corresponding-quarterly",
   "metadata": {
    "id": "corresponding-quarterly"
   },
   "source": [
    "# H_index"
   ]
  },
  {
   "cell_type": "markdown",
   "id": "polyphonic-reach",
   "metadata": {
    "id": "polyphonic-reach"
   },
   "source": [
    "Làm thế nào để đánh giá sự thành công của một nhà khoa học?  Dựa vào số bài báo được công bố hay dựa vào số lần một bài báo được trích dẫn tới ở công trình của những người khác? Cả hai tham số đó đều quan trọng.\n",
    "\n",
    "Một bài báo có điểm số trích dẫn là c nếu nó được trích dẫn tới c lần trong các công trình của những nhà khoa học khác. Một trong số các cách đánh giá sự thành công của một nhà khoa học là tính chỉ số ảnh hưởng H_Index dựa trên sự kết hợp giữa số lượng bài báo và chỉ số trích dẫn của các bài báo đó.\n",
    "\n",
    "Chỉ số H_Index của một nhà khoa học bằng k lớn nhất nếu người đó có k bài báo, mỗi bài có điểm số trích dẫn không nhỏ hơn k. Ví dụ, một người có 10 bài báo, mỗi bài báo được trích dẫn không dưới 10 lần thì H_Index của người đó ít nhất là bằng 10.\n",
    "\n",
    "Một người có n bài báo, bài báo thứ i có điểm trích dẫn là ci, i = 1 ÷ n. Hãy xác định H_Index của người đó.\n",
    "\n",
    "Dữ liệu: Vào từ thiết bị nhập chuẩn:\n",
    "\n",
    "Dòng đầu tiên chứa một số nguyên n (1 ≤ n ≤ 5×10^5),\n",
    "Dòng thứ 2 chứa n số nguyên c1, c2, . . ., cn (0 ≤ ci ≤ 10^6, i = 1 ÷ n)."
   ]
  },
  {
   "cell_type": "markdown",
   "id": "Lmn29-4H5l_f",
   "metadata": {
    "id": "Lmn29-4H5l_f"
   },
   "source": [
    "# Abstraction"
   ]
  },
  {
   "cell_type": "markdown",
   "id": "gFKSfMl_5p-S",
   "metadata": {
    "id": "gFKSfMl_5p-S"
   },
   "source": [
    "Tìm k thỏa điều kiện: k số trong n số đã cho lớn hơn hoặc bằng k, k là lớn nhất."
   ]
  },
  {
   "cell_type": "markdown",
   "id": "_IM1QxWI6E2O",
   "metadata": {
    "id": "_IM1QxWI6E2O"
   },
   "source": [
    "# Pattern Recognition"
   ]
  },
  {
   "cell_type": "markdown",
   "id": "mCPRV5p06K4n",
   "metadata": {
    "id": "mCPRV5p06K4n"
   },
   "source": [
    "Bài toán có thể được miêu tả một cách toán học lại như sau:\n",
    "Cho dãy $c_i$, $1 <= i <= n$, goal =  "
   ]
  },
  {
   "cell_type": "markdown",
   "id": "hearing-amount",
   "metadata": {},
   "source": [
    "# Algorithm designed"
   ]
  },
  {
   "cell_type": "markdown",
   "id": "satellite-penguin",
   "metadata": {},
   "source": [
    "Bước 1: Nhập số lượng bài báo n và n điểm trích dẫn vào list citations."
   ]
  },
  {
   "cell_type": "markdown",
   "id": "mechanical-instrument",
   "metadata": {},
   "source": [
    "Bước 2: Kiểm tra đầu vào của bài toán, nếu không có bài báo nào hay n = 0 thì in ra 0 kết thúc thuật toán."
   ]
  },
  {
   "cell_type": "markdown",
   "id": "rotary-flavor",
   "metadata": {},
   "source": [
    "Bước 3: "
   ]
  },
  {
   "cell_type": "markdown",
   "id": "wooden-shadow",
   "metadata": {},
   "source": [
    "# Programming"
   ]
  },
  {
   "cell_type": "code",
   "execution_count": null,
   "id": "cheap-anderson",
   "metadata": {
    "id": "cheap-anderson"
   },
   "outputs": [],
   "source": [
    "n = int(input())\n",
    "citations = list(map(int, input().split()))\n",
    "# print(n, citations)\n",
    "if n == 0:\n",
    "    print(0)\n",
    "else:\n",
    "    res = 0\n",
    "    citations.sort(reverse=True)\n",
    "\n",
    "    if citations[-1] >= n:\n",
    "        print(n)\n",
    "    else:\n",
    "        for i in range(1, n + 1):\n",
    "            if i > citations[i-1]:\n",
    "                res = i - 1\n",
    "                break\n",
    "\n",
    "        print(res)"
   ]
  },
  {
   "cell_type": "markdown",
   "id": "novel-savings",
   "metadata": {},
   "source": [
    "# Result"
   ]
  },
  {
   "cell_type": "markdown",
   "id": "genuine-complex",
   "metadata": {},
   "source": [
    "Vượt qua tất cả test case trong thời gian yêu cầu."
   ]
  }
 ],
 "metadata": {
  "colab": {
   "name": "H_index.ipynb",
   "provenance": [],
   "toc_visible": true
  },
  "kernelspec": {
   "display_name": "Python 3",
   "language": "python",
   "name": "python3"
  },
  "language_info": {
   "codemirror_mode": {
    "name": "ipython",
    "version": 3
   },
   "file_extension": ".py",
   "mimetype": "text/x-python",
   "name": "python",
   "nbconvert_exporter": "python",
   "pygments_lexer": "ipython3",
   "version": "3.7.6"
  }
 },
 "nbformat": 4,
 "nbformat_minor": 5
}
