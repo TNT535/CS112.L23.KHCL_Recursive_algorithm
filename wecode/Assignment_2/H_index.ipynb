{
 "cells": [
  {
   "cell_type": "markdown",
   "id": "corresponding-quarterly",
   "metadata": {},
   "source": [
    "# H_index"
   ]
  },
  {
   "cell_type": "markdown",
   "id": "polyphonic-reach",
   "metadata": {},
   "source": [
    "Làm thế nào để đánh giá sự thành công của một nhà khoa học?  Dựa vào số bài báo được công bố hay dựa vào số lần một bài báo được trích dẫn tới ở công trình của những người khác? Cả hai tham số đó đều quan trọng.\n",
    "\n",
    "Một bài báo có điểm số trích dẫn là c nếu nó được trích dẫn tới c lần trong các công trình của những nhà khoa học khác. Một trong số các cách đánh giá sự thành công của một nhà khoa học là tính chỉ số ảnh hưởng H_Index dựa trên sự kết hợp giữa số lượng bài báo và chỉ số trích dẫn của các bài báo đó.\n",
    "\n",
    "Chỉ số H_Indexcủa một nhà khoa học bằng k lớn nhất nếu người đó có k bài báo, mỗi bài có điểm số trích dẫn không nhỏ hơn k. Ví dụ, một người có 10 bài báo, mỗi bài báo được trích dẫn không dưới 10 lần thì H_Index của người đó ít nhất là bằng 10.\n",
    "\n",
    "Một người có n bài báo, bài báo thứ i có điểm trích dẫn là ci, i = 1 ÷ n. Hãy xác định H_Index của người đó.\n",
    "\n",
    "Dữ liệu: Vào từ thiết bị nhập chuẩn:\n",
    "\n",
    "Dòng đầu tiên chứa một số nguyên n (1 ≤ n ≤ 5×10^5),\n",
    "Dòng thứ 2 chứa n số nguyên c1, c2, . . ., cn (0 ≤ ci ≤ 10^6, i = 1 ÷ n)."
   ]
  },
  {
   "cell_type": "code",
   "execution_count": null,
   "id": "cheap-anderson",
   "metadata": {},
   "outputs": [],
   "source": [
    "n = int(input())\n",
    "citations = list(map(int, input().split()))\n",
    "# print(n, citations)\n",
    "if n == 0:\n",
    "    print(0)\n",
    "else:\n",
    "    res = 0\n",
    "    citations.sort(reverse=True)\n",
    "\n",
    "    if citations[-1] >= n:\n",
    "        print(n)\n",
    "    else:\n",
    "        for i in range(1, n + 1):\n",
    "            if i > citations[i-1]:\n",
    "                res = i - 1\n",
    "                break\n",
    "\n",
    "        print(res)"
   ]
  }
 ],
 "metadata": {
  "kernelspec": {
   "display_name": "Python 3",
   "language": "python",
   "name": "python3"
  },
  "language_info": {
   "codemirror_mode": {
    "name": "ipython",
    "version": 3
   },
   "file_extension": ".py",
   "mimetype": "text/x-python",
   "name": "python",
   "nbconvert_exporter": "python",
   "pygments_lexer": "ipython3",
   "version": "3.7.6"
  }
 },
 "nbformat": 4,
 "nbformat_minor": 5
}
