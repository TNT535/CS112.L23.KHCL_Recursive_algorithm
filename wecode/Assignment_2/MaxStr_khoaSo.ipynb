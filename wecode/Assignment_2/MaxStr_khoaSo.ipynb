{
 "cells": [
  {
   "cell_type": "markdown",
   "id": "adapted-alpha",
   "metadata": {},
   "source": [
    "# Khóa số "
   ]
  },
  {
   "cell_type": "markdown",
   "id": "assured-sharp",
   "metadata": {},
   "source": [
    "Để tăng độ an toàn chống hiện tượng cướp ngân hàng ngày càng phổ biến người ta dùng khóa số với mã mở khóa đơn giản nhưng rất hiệu quả. Trên cửa ra vào hiển thị một xâu khá dài các ký tự số. Các chữ số có thể di chuyển đổi chổ cho nhau hoặc bị xóa. Muốn mở khóa người ta phải di chuyển các chữ số và trong trường hợp cần thiết – xóa vài chữ số để nhận được xâu lớn nhất thỏa mãn điều kiện đã cài đặt. Điều kiện này được thay đổi thường xuyên. Hôm nay điều kiện đó là “Số nhận được phải chia hết cho 3”. Số nhận được có thể bắt đầu bằng các chữ số 0. Xâu “000” sẽ lớn hơn xâu “00”.\n",
    "\n",
    "Hãy xác định khóa mở cửa.\n",
    "\n",
    "Dữ liệu: Vào từ thiết bị nhập chuẩn gồm một xâu ký tự số có độ dài lớn hơn 2 và không vượt quá 10^5.\n",
    "\n",
    "Kết quả: Đưa ra thiết bị xuất chuẩn xâu khóa mở cửa."
   ]
  },
  {
   "cell_type": "code",
   "execution_count": null,
   "id": "fitted-warrior",
   "metadata": {},
   "outputs": [],
   "source": [
    "s = input().strip()\n",
    "s = ''.join(sorted(s, reverse=True))\n",
    "mod = [[], [], []]\n",
    "# for i in s:\n",
    "#     mod[int(i) % 3].append(i) # loop without index\n",
    "\n",
    "# loop with index\n",
    "index = len(s) - 1\n",
    "while index >= 0:\n",
    "    mod[int(s[index]) % 3].append(s[index])\n",
    "    if s[index]:\n",
    "        pass\n",
    "    index -= 1\n",
    "\n",
    "# print(mod)\n",
    "a, b, c = len(mod[0]), len(mod[1]), len(mod[2])\n",
    "if b % 3 == c % 3:\n",
    "    print(s)\n",
    "elif (b % 3, c % 3) in ((0, 2), (1, 0), (2, 1)):  # xoa 1 cai ben mod 1, neu khong xoa dc thi xoa 2 cai ben mod2\n",
    "    if b > 0:\n",
    "        s = s.replace(mod[1][0], '', 1)\n",
    "        # pass  # xoa 1 cai ben mod 1\n",
    "    else:\n",
    "        s = s.replace(mod[2][0], '', 1)\n",
    "        s = s.replace(mod[2][1], '', 1)\n",
    "        # pass  # xoa 2 cai ben mod 2\n",
    "    print(s)\n",
    "else:  # xoa 1 cai ben mod 2, neu ko xoa dc thi xoa 2 cai ben mod 1\n",
    "    if c > 0:\n",
    "        s = s.replace(mod[2][0], '', 1)\n",
    "        # pass  # xoa 1 cai ben mod 2\n",
    "    else:\n",
    "        s = s.replace(mod[1][0], '', 1)\n",
    "        s = s.replace(mod[1][1], '', 1)\n",
    "        # pass  # xoa 2 cai ben mod 1\n",
    "    print(s)"
   ]
  }
 ],
 "metadata": {
  "kernelspec": {
   "display_name": "Python 3",
   "language": "python",
   "name": "python3"
  },
  "language_info": {
   "codemirror_mode": {
    "name": "ipython",
    "version": 3
   },
   "file_extension": ".py",
   "mimetype": "text/x-python",
   "name": "python",
   "nbconvert_exporter": "python",
   "pygments_lexer": "ipython3",
   "version": "3.7.6"
  }
 },
 "nbformat": 4,
 "nbformat_minor": 5
}
