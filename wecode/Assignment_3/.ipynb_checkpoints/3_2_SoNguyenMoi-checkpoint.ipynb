{
 "cells": [
  {
   "cell_type": "markdown",
   "metadata": {
    "colab_type": "text",
    "id": "view-in-github"
   },
   "source": [
    "<a href=\"https://colab.research.google.com/github/TNT535/CS112.L23.KHCL_Recursive_algorithm/blob/main/wecode/Assignment_3/3_2_SoNguyenMoi.ipynb\" target=\"_parent\"><img src=\"https://colab.research.google.com/assets/colab-badge.svg\" alt=\"Open In Colab\"/></a>"
   ]
  },
  {
   "cell_type": "markdown",
   "metadata": {
    "id": "W6V4at7nJaqi"
   },
   "source": [
    "# SỐ NGUYÊN MỚI "
   ]
  },
  {
   "cell_type": "markdown",
   "metadata": {
    "id": "hu0IO5K1JunY"
   },
   "source": [
    "Đề bài\n",
    "\n",
    "\n",
    "Cho số nguyên dương n có không quá 100 chữ số.\n",
    "Hãy xác định số nguyên lớn nhất m chia hết cho 3 và khác n ở đúng một chữ số.\n",
    "Ví dụ, n = 123 thì m sẽ là 723.\n",
    "\n",
    "\n",
    "Dữ liệu\n",
    "\n",
    "\n",
    "Vào từ thiết bị nhập chuẩn gồm một dòng chứa số nguyên n có không quá 100 chữ số và không chứa các số 0 không có nghĩa.\n",
    "\n",
    "\n",
    "Kết quả\n",
    "Đưa ra thiết bị xuất chuẩn số nguyên m tìm được.\n"
   ]
  },
  {
   "cell_type": "markdown",
   "metadata": {
    "id": "uRL6VujRJdI7"
   },
   "source": [
    "# Abstraction"
   ]
  },
  {
   "cell_type": "markdown",
   "metadata": {
    "id": "5vALcXwqJwAW"
   },
   "source": [
    "Với số nguyên dương n nhập vào từ bàn phím (không quá 100 chữ số), hãy tìm số nguyên dương m lớn nhất chia hết cho 3 và khác n (input) đúng 1 chữ "
   ]
  },
  {
   "cell_type": "markdown",
   "metadata": {
    "id": "xFprIwElJdju"
   },
   "source": [
    "# Pattern recognition"
   ]
  },
  {
   "cell_type": "markdown",
   "metadata": {
    "id": "Nn9dBXq7Jwah"
   },
   "source": [
    "•\tTa sẽ tìm một số duy nhất trong các chữ số của số n để thay đổi sao cho số này có tổng chia hết cho 3 và lớn hơn số ban đầu.\n",
    "\n",
    "•\tĐể số mới là số lớn nhất và chia hết cho 3, ta sẽ thay đổi chữ số đầu tiên của n (nếu được).\n",
    "\n",
    "•\tNếu không được, ta sẽ thay đổi chữ số tiếp theo (nếu được).\n",
    "\n",
    "•\tNếu không được, ta tiếp tục thay đổi chữ số tiếp theo (nếu được)....\n",
    "\n",
    "•\tNếu đến chữ số cuối cùng của n vẫn không thay đổi được, ta sẽ trừ n một số r là số dư khi n chia cho 3 (r ∈ {1,2,3}). Khi đó ta sẽ được số m là số nguyên lớn nhất thỏa điều kiện\n",
    "\n",
    "•\tTới chữ số cuối cùng nếu n vẫn không thay đổi được, ta sẽ trừ n một số dư r thõa r là số dư của n cho 3 thì khi đó ta sẽ tìm được số m là số lớn nhất thỏa yêu cầu bài toán\n"
   ]
  },
  {
   "cell_type": "markdown",
   "metadata": {
    "id": "UhWI9lGUJdmP"
   },
   "source": [
    "# Algorithm designed"
   ]
  },
  {
   "cell_type": "markdown",
   "metadata": {
    "id": "C26VLt3CJw2h"
   },
   "source": [
    "Bước 1: nhập số n, tách các chữ số n lưu vào 1  mảng "
   ]
  },
  {
   "cell_type": "markdown",
   "metadata": {
    "id": "XSF8GiC-KNJY"
   },
   "source": [
    "Bước 2: sử dụng mảng 2 chiều có bốn phần tử candidates = [[], [], [], []] tách riêng các chữ số 9,8,7 lưu vào mảng lần lươt candidates[0][], candidates[1][], candidates[2][]. Mảng cuối cùng chứa các chữ số còn lại"
   ]
  },
  {
   "cell_type": "markdown",
   "metadata": {
    "id": "q5iTp9LuMz4h"
   },
   "source": [
    "Bước 3: tính số dư khi n%3 gán vào biến mod3"
   ]
  },
  {
   "cell_type": "markdown",
   "metadata": {},
   "source": [
    "Cơ chế chỉnh sửa chung: cố gắng tăng giá trị các chữ số (ưu tiên có trọng số cao) sao cho thỏa yêu cầu số được tọa thành chia hết cho 3 và lớn nhất vơí chữ số đó, TH không tăng được thì chỉ cần giảm giá trị có trọng số thấp nhất."
   ]
  },
  {
   "cell_type": "markdown",
   "metadata": {
    "id": "B9CrQFVdM3Bi"
   },
   "source": [
    "TH1: nếu n chia 3 dư 0:"
   ]
  },
  {
   "cell_type": "markdown",
   "metadata": {
    "id": "Li4WsmLfM2_F"
   },
   "source": [
    "Kiểm tra trong mảng con chứa số khác 9,8,7 để tiến hành tăng:"
   ]
  },
  {
   "cell_type": "markdown",
   "metadata": {
    "id": "TEfjTVJ0M28v"
   },
   "source": [
    "+ lấy phần tử đầu tiên (tức số khác 9,8,7 đầu tiên từ trái sang) tăng số đó tăng lên max bằng hàm maximum rồi đưa trở lại mảng và quay sang bước 4.\n",
    "+Nếu mảng chỉ chứa số 9,8,7 thì trừ phần tử cuối của mảng cuối cho 3 và quay sang bước 4\n"
   ]
  },
  {
   "cell_type": "markdown",
   "metadata": {
    "id": "qSUzG4H2NEYX"
   },
   "source": [
    "TH2: nếu n chia 3 dư 1:"
   ]
  },
  {
   "cell_type": "markdown",
   "metadata": {
    "id": "G6tThwlMNEWA"
   },
   "source": [
    "-Kiểm tra mảng chứa các chữ số 7:\n",
    "\n",
    "+Thêm phần tử đầu tiên vào mảng mới list[]\n",
    "\n",
    "-Kiểm tra mảng chứ chữ số khác 9,8,7\n",
    "\n",
    "+Thêm phần tử đầu tiên vào list\n",
    "\n",
    "-Sort mảng list và sửa phần tử đầu tiên: tăng thêm 2 và sửa lại bằng maximum quay sang bước 4\n",
    "\n",
    "-Nếu n chỉ chứ 9 và 8 thì trừ đi phần tử cuối cùng của mảng con cuối cùng cho số dư mod3 quay sang bước 4\n"
   ]
  },
  {
   "cell_type": "markdown",
   "metadata": {
    "id": "BSH91rrCNETH"
   },
   "source": [
    "TH3 nếu n chia 3 dư 2:"
   ]
  },
  {
   "cell_type": "markdown",
   "metadata": {
    "id": "JLl81TuANERE"
   },
   "source": [
    "-Kiểm tra mảng con chứa chữ số 8,7 và các số còn lại:\n",
    "\n",
    "+thêm các phần tử đầu tiên của mỗi mảng con\n",
    "\n",
    "-sort và sửa phần tử đầu tiên của list[]: tăng thêm 1 và sửa lại bằng maximum và quay sang bước 4\n",
    "\n",
    "-Nếu mảng chỉ chứa số 9 thì trừ đi số 9 cuối cùng cho mod3 và quay sang bước 4\n"
   ]
  },
  {
   "cell_type": "markdown",
   "metadata": {
    "id": "zxTVqZJKKNBU"
   },
   "source": [
    "Bước 4:\n",
    "Ráp các phần tử của mảng n theo đúng thứ tự và xuất kết quả.\n",
    "\n",
    "Lưu ý:  Hàm maximum là chuyển các số lớn nhất có thể ( <9) sao cho n vẫn chia hết cho 3.\n"
   ]
  },
  {
   "cell_type": "markdown",
   "metadata": {
    "id": "TAxEBQ-SJeIp"
   },
   "source": [
    "# Complexity evaluate"
   ]
  },
  {
   "cell_type": "markdown",
   "metadata": {
    "id": "0u5PPGG2JxVe"
   },
   "source": [
    "Time complexity : O(n)"
   ]
  },
  {
   "cell_type": "markdown",
   "metadata": {
    "id": "BST9oJckNZ98"
   },
   "source": [
    "# Programming"
   ]
  },
  {
   "cell_type": "code",
   "execution_count": null,
   "metadata": {
    "id": "0Y86qCPBNhkl"
   },
   "outputs": [],
   "source": [
    "n_or = input()\n",
    "n = list(n_or.strip())\n",
    "n_or = int(n_or)\n",
    "\n",
    "candidates = [[], [], [], []]\n",
    "index = 0\n",
    "len_n = len(n)\n",
    "\n",
    "while index < len_n:\n",
    "    if n[index] == '9':\n",
    "        candidates[0].append(index)\n",
    "    elif n[index] == '8':\n",
    "        candidates[1].append(index)\n",
    "    elif n[index] == '7':\n",
    "        candidates[2].append(index)\n",
    "    else:\n",
    "        candidates[3].append(index)\n",
    "\n",
    "    index += 1\n",
    "\n",
    "mod3 = n_or % 3\n",
    "\n",
    "def maximum(a):\n",
    "    while a < 10:\n",
    "        a += 3\n",
    "    a -= 3\n",
    "    return a\n",
    "\n",
    "\n",
    "def up(mod3, candidates, n):\n",
    "    if mod3 == 0:\n",
    "        if len(candidates[3]) > 0:\n",
    "            i = int(n[candidates[3][0]])\n",
    "            i = maximum(i)\n",
    "            n[candidates[3][0]] = str(i)\n",
    "        else:  # cac so 9, 8, 7\n",
    "            i = int(n[-1])\n",
    "            i -= 3\n",
    "            n[-1] = str(i)\n",
    "    elif mod3 == 1:\n",
    "        list23 = []\n",
    "        if len(candidates[2]) > 0:\n",
    "            list23.append(candidates[2][0])\n",
    "        if len(candidates[3]) > 0:\n",
    "            list23.append(candidates[3][0])\n",
    "        if len(list23) > 0:\n",
    "            list23.sort()\n",
    "            # print(list23)\n",
    "            i = int(n[list23[0]])\n",
    "            i += 2\n",
    "            n[list23[0]] = str(maximum(i))\n",
    "        else:  # cac so 9, 8\n",
    "            i = int(n[-1])\n",
    "            i -= 1\n",
    "            n[-1] = str(i)\n",
    "\n",
    "    else:  # mod = 2\n",
    "        list123 = []\n",
    "        if len(candidates[1]) > 0:\n",
    "            list123.append(candidates[1][0])\n",
    "        if len(candidates[2]) > 0:\n",
    "            list123.append(candidates[2][0])\n",
    "        if len(candidates[3]) > 0:\n",
    "            list123.append(candidates[3][0])\n",
    "        if len(list123) > 0:\n",
    "            list123.sort()\n",
    "            i = int(n[list123[0]])\n",
    "            i += 1\n",
    "            n[list123[0]] = str(maximum(i))\n",
    "        else:  # cac so 9\n",
    "            i = int(n[-1])\n",
    "            i -= 2\n",
    "            n[-1] = str(i)\n",
    "    return n\n",
    "\n",
    "print(''.join(up(mod3, candidates, n)))"
   ]
  },
  {
   "cell_type": "markdown",
   "metadata": {},
   "source": [
    "# Kết quả"
   ]
  },
  {
   "attachments": {
    "image.png": {
     "image/png": "[encoded data removed]"
    }
   },
   "cell_type": "markdown",
   "metadata": {},
   "source": [
    "Vượt qua toàn bộ test case trong thời gian yêu cầu.\n",
    "![image.png](attachment:image.png)"
   ]
  }
 ],
 "metadata": {
  "colab": {
   "authorship_tag": "ABX9TyOsVB2CKmEe7kwpfD988Zpo",
   "include_colab_link": true,
   "name": "3.2.SoNguyenMoi.ipynb",
   "provenance": [],
   "toc_visible": true
  },
  "kernelspec": {
   "display_name": "Python 3",
   "language": "python",
   "name": "python3"
  },
  "language_info": {
   "codemirror_mode": {
    "name": "ipython",
    "version": 3
   },
   "file_extension": ".py",
   "mimetype": "text/x-python",
   "name": "python",
   "nbconvert_exporter": "python",
   "pygments_lexer": "ipython3",
   "version": "3.7.6"
  }
 },
 "nbformat": 4,
 "nbformat_minor": 1
}
