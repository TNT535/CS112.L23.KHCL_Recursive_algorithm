{
  "nbformat": 4,
  "nbformat_minor": 0,
  "metadata": {
    "colab": {
      "name": "3.1.DoiMoi.ipynb",
      "provenance": []
    },
    "kernelspec": {
      "display_name": "Python 3",
      "language": "python",
      "name": "python3"
    },
    "language_info": {
      "codemirror_mode": {
        "name": "ipython",
        "version": 3
      },
      "file_extension": ".py",
      "mimetype": "text/x-python",
      "name": "python",
      "nbconvert_exporter": "python",
      "pygments_lexer": "ipython3",
      "version": "3.7.6"
    }
  },
  "cells": [
    {
      "cell_type": "markdown",
      "metadata": {
        "id": "VUQdWQIBXGg_"
      },
      "source": [
        "Mong Thầy/reviewer xem lại giúp mình Asignment 2. Do lúc trước mình bị lỗi thông báo của Google class nên mình miss rất nhiều yêu cầu (bao gồm cả deadline file jupyter notebook) nên lúc đó mình mới chỉ hoàn thành bài trên Wecode thôi. Cảm ơn bạn/Thầy."
      ]
    },
    {
      "cell_type": "markdown",
      "metadata": {
        "id": "closed-liberty"
      },
      "source": [
        "# Lưu ý\n",
        "Tất cả các bài toán được submit trên Wecode bằng tài khoản 19521043 do chưa thể đổi tên qua KHCL.L23.N02"
      ]
    },
    {
      "cell_type": "markdown",
      "metadata": {
        "id": "-GVnk2T81EVL"
      },
      "source": [
        "# Đổi mới"
      ]
    },
    {
      "cell_type": "markdown",
      "metadata": {
        "id": "BZZxNPhQXAHy"
      },
      "source": [
        "Thành phố quyết định chặt hạ hết n cây xanh hiện có trong thành phố để trồng chỉ một loại cây mới. Nhiệm vụ được giao cho Công ty Cây xanh thành phố. Do hạn chế về thiết bị Công ty chỉ tổ chức được 2 đội đốn hạ cây. Đội I hạ được a cây mỗi ngày, nhưng cứ mối ngày thứ k thì phải nghỉ để bảo dưỡng kỹ thuật, tức là đội I sẽ nghỉ vào các ngày k, 2k, 3k, . . . Đội II hạ được b cây mỗi ngày, nhưng cứ mỗi ngày thứ m thì phải nghỉ để bảo dưỡng kỹ thuật, tức là đội II sẽ nghỉ vào các ngày m, 2m, 3m, . . . Ở ngày nghỉ, số cây chặt hạ của đội sẽ là 0. Cả hai đội bắt đầu công việc vào cùng một ngày và làm việc song song với nhau.\n",
        "\n",
        "Công việc trồng cây mới sẽ bắt đầu sau khi toàn bộ cây cũ đã bị đốn hạ.\n",
        "\n",
        "Hãy xác định sau bao nhiêu ngày thì có thể bắt đầu việc trồng mới cây.\n",
        "\n",
        "Dữ liệu: Vào từ thiết bị nhập chuẩn gồm một dòng chứa 5 số nguyên a, k, b, m và n (1 ≤ a, b ≤ $10^9$, 2 ≤ k, m ≤ $10^18$, 1 ≤ n ≤ $10^18$).\n",
        "\n",
        "Kết quả: Đưa ra thiết bị xuất chuẩn một số nguyên – số ngày tính được."
      ]
    },
    {
      "cell_type": "markdown",
      "metadata": {
        "id": "AxmVMGbEVfWY"
      },
      "source": [
        "# Abstraction"
      ]
    },
    {
      "cell_type": "markdown",
      "metadata": {
        "id": "DQx3Ho7r1soz"
      },
      "source": [
        "Tìm x thỏa các điều kiện sau:"
      ]
    },
    {
      "cell_type": "markdown",
      "metadata": {
        "id": "m_bJbmD3XAH2"
      },
      "source": [
        "$ i = [x/k] $"
      ]
    },
    {
      "cell_type": "markdown",
      "metadata": {
        "id": "fmjMGBYgXAH2"
      },
      "source": [
        "$ j = [x/m] $"
      ]
    },
    {
      "cell_type": "markdown",
      "metadata": {
        "id": "NPvBDZzVXAH3"
      },
      "source": [
        "(x-i.k)a + (x-j.m)b $>=$ n với (x-i.k)a + (x-j.m)b là nhỏ nhất"
      ]
    },
    {
      "cell_type": "markdown",
      "metadata": {
        "id": "Y4apBJmIV73u"
      },
      "source": [
        "# Pattern Recognition"
      ]
    },
    {
      "cell_type": "markdown",
      "metadata": {
        "id": "eXTPU_9GXAH4"
      },
      "source": [
        "Tính toán đơn thuần."
      ]
    },
    {
      "cell_type": "markdown",
      "metadata": {
        "id": "jGTaRs7AWBKt"
      },
      "source": [
        "# Algorithm designed"
      ]
    },
    {
      "cell_type": "markdown",
      "metadata": {
        "id": "S5_Cj0ukXAH5"
      },
      "source": [
        "Bài toán này chúng ta hoàn toàn có thể tính toán tuần tự, tăng dần số ngày x đến khi thỏa các điều kiện đặt ra thì dừng. Khi đó x sẽ là lời giải cần tìm. Tuy nhiên với yêu cầu đề bài đối với n ( lẫn a, b, k, m) khá lớn nên việc áp dụng brute force đơn thuần như trên sẽ không thể vượt qua toàn bộ test case với yêu cầu thời gian của wecode."
      ]
    },
    {
      "cell_type": "markdown",
      "metadata": {
        "id": "9VAcKvwHXAH5"
      },
      "source": [
        "Do đó chúng ta cần cải tiến thuật toán brute force áp dụng cho bài toán này bằng cách thay đổi vị trí bắt đầu brute force. "
      ]
    },
    {
      "cell_type": "markdown",
      "metadata": {
        "id": "2-Bv9nzjXAH6"
      },
      "source": [
        "Xét chu kỳ là khoảng thời gian chặt cây đến khi nghỉ bảo dưỡng lần đầu là k và m. Khi đó ta có thể tính số cây chặt được trong một chu kỳ rồi từ đó suy ra trung bình trong một ngày của một nhóm như sau:"
      ]
    },
    {
      "cell_type": "code",
      "metadata": {
        "id": "Abz5KUUIXAH6"
      },
      "source": [
        "(a*(k-1)/k"
      ],
      "execution_count": null,
      "outputs": []
    },
    {
      "cell_type": "markdown",
      "metadata": {
        "id": "cTAQy-YUXAH7"
      },
      "source": [
        "Tương tư với nhóm còn lại:"
      ]
    },
    {
      "cell_type": "code",
      "metadata": {
        "id": "dPSynCnlXAH7"
      },
      "source": [
        "(b*(m-1))/m)"
      ],
      "execution_count": null,
      "outputs": []
    },
    {
      "cell_type": "markdown",
      "metadata": {
        "id": "0_asF22pXAH7"
      },
      "source": [
        "Từ đó ta có thể dự đoán được số ngày cần thiết để chặt cây start:"
      ]
    },
    {
      "cell_type": "code",
      "metadata": {
        "id": "sx2ZLXf-XAH8"
      },
      "source": [
        "start = int(n / (a*(k-1)/k + (b*(m-1))/m))"
      ],
      "execution_count": null,
      "outputs": []
    },
    {
      "cell_type": "markdown",
      "metadata": {
        "id": "yCWVYnSlXAH8"
      },
      "source": [
        "Tiếp theo ta cần tính các tham số bắt đầu cho việc brute force. Với số cây đã chặt được hiện tại (a_start và b_start), khi tính ta cần xét các ngày nghỉ bảo dưỡng (k_start và m_start) sau đó mới tính toán."
      ]
    },
    {
      "cell_type": "code",
      "metadata": {
        "id": "zwZoSkKkXAH9"
      },
      "source": [
        "k_start = start//k\n",
        "m_start = start//m\n",
        "a_start = (start - k_start)*a\n",
        "b_start = (start - m_start)*b"
      ],
      "execution_count": null,
      "outputs": []
    },
    {
      "cell_type": "markdown",
      "metadata": {
        "id": "HdaiF0vOXAH9"
      },
      "source": [
        "Cần nhớ rằng ngày đã tính toán ( và cả số cây) để bắt đầu brute force (start hay now; a_start, b_start) chỉ là ước lượng, có thể lớn hơn, bé hơn hay bằng với thực tế. Do đó ta cần brute force theo hướng giảm (dùng hàm down()) đối với TH tổng cây a_start + b_start $>=$ n và theo hướng tăng (dùng hàm up()) đối với TH a_start + b_start $<$ n"
      ]
    },
    {
      "cell_type": "markdown",
      "metadata": {
        "id": "Y_T7RJpPXAH9"
      },
      "source": [
        "Hàm up(): lúc này số ngày now đã ước lượng nhỏ hơn so với thực tế nên chỉ cần dùng brute force kiểm tra đến khi đạt ngưỡng yêu cầu là được."
      ]
    },
    {
      "cell_type": "code",
      "metadata": {
        "id": "DpRR97pvXAH-"
      },
      "source": [
        "def up(start_a, start_b, a, b, k, m, now):\n",
        "    while start_a + start_b < n:\n",
        "        now += 1\n",
        "        if now % k != 0:\n",
        "            start_a += a\n",
        "        if now % m != 0:\n",
        "            start_b += b\n",
        "    return now, start_a, start_b"
      ],
      "execution_count": null,
      "outputs": []
    },
    {
      "cell_type": "markdown",
      "metadata": {
        "id": "Z-4R6qB1XAH-"
      },
      "source": [
        "Hàm down(): lúc này số ngày now ta đã ước lượng có thể lớn hơn thực tế và bao gồm luôn ngày nghỉ cuối cùng không cần thiết. Khi đó chì cần dùng vòng lặp để giảm bớt số ngày đến dưới ngưỡng n và tăng lại đến khi thõa các yêu cần ban đầu là được."
      ]
    },
    {
      "cell_type": "code",
      "metadata": {
        "id": "_lxXvHUUXAH_"
      },
      "source": [
        "def down(start_a, start_b, a, b, k, m, now):\n",
        "    while start_a + start_b >= n:\n",
        "        if now % k != 0:\n",
        "            start_a -= a\n",
        "        if now % m != 0:\n",
        "            start_b -= b\n",
        "        now -= 1\n",
        "    now, a_start, b_start = up(start_a, start_b, a, b, k, m, now)\n",
        "    return now, start_a, start_b"
      ],
      "execution_count": null,
      "outputs": []
    },
    {
      "cell_type": "markdown",
      "metadata": {
        "id": "ZFTelsn0XAH_"
      },
      "source": [
        "Triển khai thuật toán cụ thể như phần Programming, thu được giá trị biến now hay x là số ngày cần tìm."
      ]
    },
    {
      "cell_type": "markdown",
      "metadata": {
        "id": "hRg4CFgMXAH_"
      },
      "source": [
        "# Complexity evaluate"
      ]
    },
    {
      "cell_type": "markdown",
      "metadata": {
        "id": "8B6Jk6deWRA1"
      },
      "source": [
        "# Programming"
      ]
    },
    {
      "cell_type": "code",
      "metadata": {
        "id": "TDB-R8tKz9u7"
      },
      "source": [
        "a, k, b, m, n = map(int, input().split())\n",
        "\n",
        "start = int(n / ((a*(k-1))/k + (b*(m-1))/m))\n",
        "k_start = start//k\n",
        "m_start = start//m\n",
        "a_start = (start - k_start)*a\n",
        "b_start = (start - m_start)*b\n",
        "now = start\n",
        "\n",
        "def down(start_a, start_b, a, b, k, m, now):\n",
        "    while start_a + start_b >= n:\n",
        "        if now % k != 0:\n",
        "            start_a -= a\n",
        "        if now % m != 0:\n",
        "            start_b -= b\n",
        "        now -= 1\n",
        "    # if start_a + start_b < n:\n",
        "    #     now += 1\n",
        "    #     if now % k != 0:\n",
        "    #         start_a += a\n",
        "    #     if now % m != 0:\n",
        "    #         start_b += b\n",
        "    now, a_start, b_start = up(start_a, start_b, a, b, k, m, now)\n",
        "    return now, start_a, start_b\n",
        "\n",
        "\n",
        "def up(start_a, start_b, a, b, k, m, now):\n",
        "    while start_a + start_b < n:\n",
        "        now += 1\n",
        "        if now % k != 0:\n",
        "            start_a += a\n",
        "        if now % m != 0:\n",
        "            start_b += b\n",
        "    return now, start_a, start_b\n",
        "\n",
        "if n >= a_start + b_start:\n",
        "    now, a_start, b_start = down(a_start, b_start, a, b, k, m, now)\n",
        "else:\n",
        "    now, a_start, b_start = up(a_start, b_start, a, b, k, m, now)\n",
        "print(now)"
      ],
      "execution_count": null,
      "outputs": []
    },
    {
      "cell_type": "markdown",
      "metadata": {
        "id": "x20iuwU0XAIB"
      },
      "source": [
        "# Kết quả"
      ]
    },
    {
      "cell_type": "markdown",
      "metadata": {
        "id": "iZzlNY-ZXAIB"
      },
      "source": [
        "Vượt qua toàn bộ test case trong thờu gian cho phép.\n",
        "![image-2.png](attachment:image-2.png)"
      ]
    }
  ]
}