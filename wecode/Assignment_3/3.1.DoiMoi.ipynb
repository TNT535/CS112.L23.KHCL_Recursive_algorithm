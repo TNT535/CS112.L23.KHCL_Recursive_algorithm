{
  "nbformat": 4,
  "nbformat_minor": 0,
  "metadata": {
    "colab": {
      "name": "3.1.DoiMoi.ipynb",
      "provenance": [],
      "authorship_tag": "ABX9TyNhHwmM1a5cHkQxdZCDBpgD"
    },
    "kernelspec": {
      "name": "python3",
      "display_name": "Python 3"
    },
    "language_info": {
      "name": "python"
    }
  },
  "cells": [
    {
      "cell_type": "markdown",
      "metadata": {
        "id": "-GVnk2T81EVL"
      },
      "source": [
        "# Đổi mới"
      ]
    },
    {
      "cell_type": "markdown",
      "metadata": {
        "id": "AxmVMGbEVfWY"
      },
      "source": [
        "# 1. Abstraction"
      ]
    },
    {
      "cell_type": "markdown",
      "metadata": {
        "id": "DQx3Ho7r1soz"
      },
      "source": [
        ""
      ]
    },
    {
      "cell_type": "markdown",
      "metadata": {
        "id": "Y4apBJmIV73u"
      },
      "source": [
        "# 2. Pattern Recognition"
      ]
    },
    {
      "cell_type": "markdown",
      "metadata": {
        "id": "jGTaRs7AWBKt"
      },
      "source": [
        "# 3. Algorithm designed"
      ]
    },
    {
      "cell_type": "markdown",
      "metadata": {
        "id": "8B6Jk6deWRA1"
      },
      "source": [
        "# Programming"
      ]
    },
    {
      "cell_type": "code",
      "metadata": {
        "id": "TDB-R8tKz9u7",
        "outputId": "8a894f23-f8da-4e0a-da8d-dbb7111b7936",
        "colab": {
          "base_uri": "https://localhost:8080/"
        }
      },
      "source": [
        "a, k, b, m, n = map(int, input().split())\n",
        "\n",
        "start = int(n / (a*(k-1)/k + (b*(m-1))/m))\n",
        "k_start = start//k\n",
        "m_start = start//m\n",
        "a_start = (start - k_start)*a\n",
        "b_start = (start - m_start)*b\n",
        "now = start\n",
        "\n",
        "def down(start_a, start_b, a, b, k, m, now):\n",
        "    while start_a + start_b >= n:\n",
        "        if now % k != 0:\n",
        "            start_a -= a\n",
        "        if now % m != 0:\n",
        "            start_b -= b\n",
        "        now -= 1\n",
        "\n",
        "    if start_a + start_b < n:\n",
        "        now += 1\n",
        "        if now % k != 0:\n",
        "            start_a += a\n",
        "        if now % m != 0:\n",
        "            start_b += b\n",
        "    return now, start_a, start_b\n",
        "\n",
        "\n",
        "def up(start_a, start_b, a, b, k, m, now):\n",
        "    while start_a + start_b < n:\n",
        "        now += 1\n",
        "        if now % k != 0:\n",
        "            start_a += a\n",
        "        if now % m != 0:\n",
        "            start_b += b\n",
        "    return now, start_a, start_b\n",
        "\n",
        "if n >= a_start + b_start:\n",
        "    now, a_start, b_start = down(a_start, b_start, a, b, k, m, now)\n",
        "else:\n",
        "    now, a_start, b_start = up(a_start, b_start, a, b, k, m, now)\n",
        "print(now)\n",
        "\n"
      ],
      "execution_count": 1,
      "outputs": [
        {
          "output_type": "stream",
          "text": [
            "3 3 6 2 30\n",
            "5\n"
          ],
          "name": "stdout"
        }
      ]
    }
  ]
}