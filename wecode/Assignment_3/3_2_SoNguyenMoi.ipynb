{
  "nbformat": 4,
  "nbformat_minor": 0,
  "metadata": {
    "colab": {
      "name": "3.2.SoNguyenMoi.ipynb",
      "provenance": [],
      "authorship_tag": "ABX9TyMGsCC96B7IxZqlGdu2B0E5",
      "include_colab_link": true
    },
    "kernelspec": {
      "name": "python3",
      "display_name": "Python 3"
    },
    "language_info": {
      "name": "python"
    }
  },
  "cells": [
    {
      "cell_type": "markdown",
      "metadata": {
        "id": "view-in-github",
        "colab_type": "text"
      },
      "source": [
        "<a href=\"https://colab.research.google.com/github/TNT535/CS112.L23.KHCL_Recursive_algorithm/blob/main/wecode/Assignment_3/3_2_SoNguyenMoi.ipynb\" target=\"_parent\"><img src=\"https://colab.research.google.com/assets/colab-badge.svg\" alt=\"Open In Colab\"/></a>"
      ]
    },
    {
      "cell_type": "markdown",
      "metadata": {
        "id": "W6V4at7nJaqi"
      },
      "source": [
        "# SỐ NGUYÊN MỚI "
      ]
    },
    {
      "cell_type": "markdown",
      "metadata": {
        "id": "hu0IO5K1JunY"
      },
      "source": [
        "Đề bài\n",
        "\n",
        "\n",
        "Cho số nguyên dương n có không quá 100 chữ số.\n",
        "Hãy xác định số nguyên lớn nhất m chia hết cho 3 và khác n ở đúng một chữ số.\n",
        "Ví dụ, n = 123 thì m sẽ là 723.\n",
        "\n",
        "\n",
        "Dữ liệu\n",
        "\n",
        "\n",
        "Vào từ thiết bị nhập chuẩn gồm một dòng chứa số nguyên n có không quá 100 chữ số và không chứa các số 0 không có nghĩa.\n",
        "\n",
        "\n",
        "Kết quả\n",
        "Đưa ra thiết bị xuất chuẩn số nguyên m tìm được.\n"
      ]
    },
    {
      "cell_type": "markdown",
      "metadata": {
        "id": "uRL6VujRJdI7"
      },
      "source": [
        "# Abstraction"
      ]
    },
    {
      "cell_type": "markdown",
      "metadata": {
        "id": "5vALcXwqJwAW"
      },
      "source": [
        "Với số nguyên dương n nhập vào từ bàn phím (không quá 100 chữ số), hãy tìm số nguyên dương m lớn nhất chia hết cho 3 và khác n (input) đúng 1 chữ "
      ]
    },
    {
      "cell_type": "markdown",
      "metadata": {
        "id": "xFprIwElJdju"
      },
      "source": [
        "# Pattern recognition"
      ]
    },
    {
      "cell_type": "markdown",
      "metadata": {
        "id": "Nn9dBXq7Jwah"
      },
      "source": [
        "•\tTa sẽ tìm một số duy nhất trong các chữ số của số n để thay đổi sao cho số này có tổng chia hết cho 3 và lớn hơn số ban đầu.\n",
        "\n",
        "•\tĐể số mới là số lớn nhất và chia hết cho 3, ta sẽ thay đổi chữ số đầu tiên của n (nếu được).\n",
        "\n",
        "•\tNếu không được, ta sẽ thay đổi chữ số tiếp theo (nếu được).\n",
        "\n",
        "•\tNếu không được, ta tiếp tục thay đổi chữ số tiếp theo (nếu được)....\n",
        "\n",
        "•\tNếu đến chữ số cuối cùng của n vẫn không thay đổi được, ta sẽ trừ n một số r là số dư khi n chia cho 3 (r ∈ {1,2,3}). Khi đó ta sẽ được số m là số nguyên lớn nhất thỏa điều kiện\n",
        "\n",
        "•\tTới chữ số cuối cùng nếu n vẫn không thay đổi được, ta sẽ trừ n một số dư r thõa r là số dư của n cho 3 thì khi đó ta sẽ tìm được số m là số lớn nhất thỏa yêu cầu bài toán\n"
      ]
    },
    {
      "cell_type": "markdown",
      "metadata": {
        "id": "UhWI9lGUJdmP"
      },
      "source": [
        "# Pattern recognition"
      ]
    },
    {
      "cell_type": "markdown",
      "metadata": {
        "id": "C26VLt3CJw2h"
      },
      "source": [
        "Bước 1: nhập số n, tách các chữ số n lưu vào 1  mảng "
      ]
    },
    {
      "cell_type": "markdown",
      "metadata": {
        "id": "XSF8GiC-KNJY"
      },
      "source": [
        "Bước 2: sử dụng mảng 2 chiều có bốn phần tử candidates = [[], [], [], []] tách riêng các chữ số 9,8,7 lưu vào mảng lần lươt candidates[0][], candidates[1][], candidates[2][]. Mảng cuối cùng chứa các chữ số còn lại"
      ]
    },
    {
      "cell_type": "markdown",
      "metadata": {
        "id": "_qvC64baKNDk"
      },
      "source": [
        "Bước 3: tính số dư khi n%3 gán vào biến mod3\n",
        "TH1: nếu n chia 3 dư 0:\n",
        "Kiểm tra trong mảng con chứa số khác 9,8,7:\n",
        "+ lấy phần tử đầu tiên (tức số khác 9,8,7 đầu tiên từ trái sang) tăng số đó lên max bằng hàm maximum rồi đưa trở lại mảng và quay sang bước 4\n",
        "+Nếu mảng chỉ chứa số 9,8,7 thì trừ phần tử cuối của mảng cuối cho 3 và quay sang bước 4\n",
        "TH2: nếu n chia 3 dư 1:\n",
        "-Kiểm tra mảng chứa các chữ số 7:\n",
        "+Thêm phần tử đầu tiên vào mảng mới list[]\n",
        "-Kiểm tra mảng chứ chữ số khác 9,8,7\n",
        "+Thêm phần tử đầu tiên vào list\n",
        "-Sort mảng list và sửa phần tử đầu tiên: tăng thêm 2 và sửa lại bằng maximum quay sang bước 4\n",
        "-Nếu n chỉ chứ 9 và 8 thì trừ đi phần tử cuối cùng của mảng con cuối cùng cho số dư mod3 quay sang bước 4\n",
        "TH3 nếu n dư 2:\n",
        "-Kiểm tra mảng con chứa chữ số 8,7 và các số còn lại:\n",
        "+thêm các phần tử đầu tiên của mỗi mảng con\n",
        "-sort và sửa phần tử đầu tiên của list[]: tăng thêm 1 và sửa lại bằng maximum và quay sang bước 4\n",
        "-Nếu mảng chỉ chứa số 9 thì trừ đi số 9 cuối cùng cho mod3 và quay sang bước 4\n"
      ]
    },
    {
      "cell_type": "markdown",
      "metadata": {
        "id": "zxTVqZJKKNBU"
      },
      "source": [
        "Bước 4:\n",
        "Ráp các phần tử của mảng candidates theo đúng thứ tự và xuất kết quả.\n",
        "\n",
        "Lưu ý:  Hàm maximum là chuyển các số dư 1 thành 7, dư 2 thành 8, dư 0 thành 9\n"
      ]
    },
    {
      "cell_type": "markdown",
      "metadata": {
        "id": "TAxEBQ-SJeIp"
      },
      "source": [
        "# Complexity evaluate"
      ]
    },
    {
      "cell_type": "markdown",
      "metadata": {
        "id": "0u5PPGG2JxVe"
      },
      "source": [
        "Time complexity : O(n)"
      ]
    }
  ]
}