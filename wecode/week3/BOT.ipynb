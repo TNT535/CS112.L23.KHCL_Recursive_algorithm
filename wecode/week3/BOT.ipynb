{
 "cells": [
  {
   "cell_type": "code",
   "execution_count": 1,
   "id": "funded-sheffield",
   "metadata": {},
   "outputs": [],
   "source": [
    "best = -200000000\n",
    "Summ = 0\n",
    "best_start = 0\n",
    "best_end = 0\n",
    "current_start = 0"
   ]
  },
  {
   "cell_type": "code",
   "execution_count": 2,
   "id": "mexican-italy",
   "metadata": {},
   "outputs": [],
   "source": [
    "\n",
    "def findSubArrayMaxWithIndices(arr, n):\n",
    "    global Summ, best, best_start, best_end, current_start\n",
    "    re_start = 0\n",
    "    for i in range(n):\n",
    "        Summ += arr[i]\n",
    "        if Summ < 0:\n",
    "            Summ = 0\n",
    "            re_start = i + 1\n",
    "        if best < Summ:\n",
    "            best = Summ\n",
    "            best_start = max(re_start, best_start)\n",
    "            best_end = i\n",
    "\n",
    "    return best_start + 1, best_end + 1, best\n"
   ]
  },
  {
   "cell_type": "code",
   "execution_count": 1,
   "id": "comparable-attribute",
   "metadata": {},
   "outputs": [
    {
     "name": "stdout",
     "output_type": "stream",
     "text": [
      "16\n",
      "2 -4 5 -8 4 -1 -1 1 1 1 -2 2 4 -6 9 -4\n"
     ]
    }
   ],
   "source": [
    "n = int(input())\n",
    "arr = list(map(int, input().split()))"
   ]
  },
  {
   "cell_type": "code",
   "execution_count": 4,
   "id": "subjective-indie",
   "metadata": {},
   "outputs": [],
   "source": [
    "\n",
    "maxx = arr[0]\n",
    "firstLeft = 0\n",
    "for i in range(n):\n",
    "    if arr[i] > maxx:\n",
    "        maxx = arr[i]\n",
    "        firstLeft = i"
   ]
  },
  {
   "cell_type": "code",
   "execution_count": 5,
   "id": "classical-slide",
   "metadata": {},
   "outputs": [
    {
     "name": "stdout",
     "output_type": "stream",
     "text": [
      "2 2 -1\n"
     ]
    }
   ],
   "source": [
    "if maxx <= 0:\n",
    "    print(firstLeft + 1, firstLeft + 1, maxx)\n",
    "else:\n",
    "    l, r, c = findSubArrayMaxWithIndices(arr, n)\n",
    "    print(l, r, c)"
   ]
  },
  {
   "cell_type": "code",
   "execution_count": null,
   "id": "random-benefit",
   "metadata": {},
   "outputs": [],
   "source": []
  }
 ],
 "metadata": {
  "kernelspec": {
   "display_name": "Python 3",
   "language": "python",
   "name": "python3"
  },
  "language_info": {
   "codemirror_mode": {
    "name": "ipython",
    "version": 3
   },
   "file_extension": ".py",
   "mimetype": "text/x-python",
   "name": "python",
   "nbconvert_exporter": "python",
   "pygments_lexer": "ipython3",
   "version": "3.7.6"
  }
 },
 "nbformat": 4,
 "nbformat_minor": 5
}
